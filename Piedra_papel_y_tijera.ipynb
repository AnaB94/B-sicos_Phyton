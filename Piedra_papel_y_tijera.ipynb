{
  "nbformat": 4,
  "nbformat_minor": 0,
  "metadata": {
    "colab": {
      "provenance": [],
      "authorship_tag": "ABX9TyP//bwc+7gP9SFRvZkhCjbY",
      "include_colab_link": true
    },
    "kernelspec": {
      "name": "python3",
      "display_name": "Python 3"
    },
    "language_info": {
      "name": "python"
    }
  },
  "cells": [
    {
      "cell_type": "markdown",
      "metadata": {
        "id": "view-in-github",
        "colab_type": "text"
      },
      "source": [
        "<a href=\"https://colab.research.google.com/github/AnaB94/B-sicos_Phyton/blob/main/Piedra_papel_y_tijera.ipynb\" target=\"_parent\"><img src=\"https://colab.research.google.com/assets/colab-badge.svg\" alt=\"Open In Colab\"/></a>"
      ]
    },
    {
      "cell_type": "code",
      "execution_count": null,
      "metadata": {
        "id": "Alrsbw4oJ77A"
      },
      "outputs": [],
      "source": [
        "#Piedra papel p tijera\n",
        "import random\n",
        "\n",
        "def juega_piedra_papel_tijera():\n",
        "  opciones=[\"Piedra\",\"Papel\",\"Tijera\"]\n",
        "  Juego= input(\"Elije Piedra, Papel o Tijera\")\n",
        "\n",
        "  #ELIJE LA COMPU\n",
        "  computadora=random.choice(opciones)\n",
        "  print(f\"Tu elejiste {Juego}\")\n",
        "  print(f\"La computadora elijio {computadora}\")\n",
        "\n",
        "  #determinar ganador\n",
        "  if Juego==computadora:\n",
        "    print(\"Empate\")\n",
        "  elif(\n",
        "      (Juego==\"Piedra\" and computadora==\"Tijera\") or\n",
        "      (Juego==\"Papel\" and computadora==\"Piedra\") or\n",
        "      (Juego==\"Piedra\" and computadora==\"Papel\") or\n",
        "      (Juego==\"Tijera\" and computadora==\"Papel\")\n",
        "    ) :\n",
        "        print(\"Ganaste\")\n",
        "  else:\n",
        "\n",
        "    print(\"La computadora gano\")\n",
        "    print()\n",
        "\n",
        "juega_piedra_papel_tijera()\n"
      ]
    }
  ]
}